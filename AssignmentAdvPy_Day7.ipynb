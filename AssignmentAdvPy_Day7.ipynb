{
  "nbformat": 4,
  "nbformat_minor": 0,
  "metadata": {
    "colab": {
      "name": "AssignmentAdvPy-Day7.ipynb",
      "provenance": [],
      "authorship_tag": "ABX9TyPZqSMZD0JKFPN5FDzLGuBQ",
      "include_colab_link": true
    },
    "kernelspec": {
      "name": "python3",
      "display_name": "Python 3"
    }
  },
  "cells": [
    {
      "cell_type": "markdown",
      "metadata": {
        "id": "view-in-github",
        "colab_type": "text"
      },
      "source": [
        "<a href=\"https://colab.research.google.com/github/BSwapna15/LetsUpgrade-Advance-Python/blob/main/AssignmentAdvPy_Day7.ipynb\" target=\"_parent\"><img src=\"https://colab.research.google.com/assets/colab-badge.svg\" alt=\"Open In Colab\"/></a>"
      ]
    },
    {
      "cell_type": "code",
      "metadata": {
        "id": "hj6PGDOQro5X"
      },
      "source": [
        "list1 = [10,20,30,40,50]\n",
        "list2 = [5,15,25,35,45,60]"
      ],
      "execution_count": 10,
      "outputs": []
    },
    {
      "cell_type": "code",
      "metadata": {
        "id": "6NHhJqiYsb4d",
        "outputId": "5c57b170-2282-4821-e166-9a419641d4d8",
        "colab": {
          "base_uri": "https://localhost:8080/",
          "height": 34
        }
      },
      "source": [
        "list3 = []\n",
        "i,j = 0,0\n",
        "\n",
        "while i<len(list1) and j<len(list2):\n",
        "  if list1[i] < list2[j]:\n",
        "    list3.append(list1[i])\n",
        "    i += 1\n",
        "  else:\n",
        "    list3.append(list2[j])\n",
        "    j += 1\n",
        "\n",
        "list3 = list3+list1[i:]+list2[j:]\n",
        "print(list3)"
      ],
      "execution_count": 14,
      "outputs": [
        {
          "output_type": "stream",
          "text": [
            "[5, 10, 15, 20, 25, 30, 35, 40, 45, 50, 60]\n"
          ],
          "name": "stdout"
        }
      ]
    },
    {
      "cell_type": "code",
      "metadata": {
        "id": "Cb-ucDH6tFzy"
      },
      "source": [
        ""
      ],
      "execution_count": null,
      "outputs": []
    }
  ]
}