{
  "nbformat": 4,
  "nbformat_minor": 0,
  "metadata": {
    "colab": {
      "name": "Assignment-Day3.ipnyb",
      "provenance": [],
      "collapsed_sections": [],
      "authorship_tag": "ABX9TyO3JB3o6TjE4j5SqVzKccl0",
      "include_colab_link": true
    },
    "kernelspec": {
      "name": "python3",
      "display_name": "Python 3"
    }
  },
  "cells": [
    {
      "cell_type": "markdown",
      "metadata": {
        "id": "view-in-github",
        "colab_type": "text"
      },
      "source": [
        "<a href=\"https://colab.research.google.com/github/BSwapna15/LetsUpgrade-Advance-Python/blob/main/Assignment_Day3.ipynb\" target=\"_parent\"><img src=\"https://colab.research.google.com/assets/colab-badge.svg\" alt=\"Open In Colab\"/></a>"
      ]
    },
    {
      "cell_type": "markdown",
      "metadata": {
        "id": "l6K2kWFHPuVu"
      },
      "source": [
        " Sort ip_addresses"
      ]
    },
    {
      "cell_type": "code",
      "metadata": {
        "id": "etZqgzy_P2yH"
      },
      "source": [
        "ip_list =  [\"192.168.10.9\", \"192.168.10.4\", \"192.168.10.11\", \"192.168.10.35\"]"
      ],
      "execution_count": 9,
      "outputs": []
    },
    {
      "cell_type": "code",
      "metadata": {
        "id": "DxMYKE-8kfhH",
        "outputId": "c9bafcd6-d1f1-41ce-f9d1-a37fa869ee88",
        "colab": {
          "base_uri": "https://localhost:8080/",
          "height": 34
        }
      },
      "source": [
        "def fun_ip(ip_add):\n",
        "  new_lst = []\n",
        "  new_lst.extend(ip_add.split('.'))\n",
        "  return int(new_lst[3])\n",
        "\n",
        "ip_list.sort(key=fun_ip)\n",
        "print(ip_list)"
      ],
      "execution_count": 15,
      "outputs": [
        {
          "output_type": "stream",
          "text": [
            "['192.168.10.4', '192.168.10.9', '192.168.10.11', '192.168.10.35']\n"
          ],
          "name": "stdout"
        }
      ]
    },
    {
      "cell_type": "markdown",
      "metadata": {
        "id": "XkMtxoPWlEg0"
      },
      "source": [
        "Append 0's to end of list"
      ]
    },
    {
      "cell_type": "code",
      "metadata": {
        "id": "MlmTyKSdk6za",
        "outputId": "4cb52bf0-1858-4949-8a0f-5046fae146ef",
        "colab": {
          "base_uri": "https://localhost:8080/",
          "height": 34
        }
      },
      "source": [
        "list_of_num = [1,2,3,0,2,3,0,1,24,0,1,3,1,0,1,21,0,1,2,0,45]\n",
        "list_of_num.sort()\n",
        "print(list_of_num)"
      ],
      "execution_count": 16,
      "outputs": [
        {
          "output_type": "stream",
          "text": [
            "[0, 0, 0, 0, 0, 0, 1, 1, 1, 1, 1, 1, 2, 2, 2, 3, 3, 3, 21, 24, 45]\n"
          ],
          "name": "stdout"
        }
      ]
    },
    {
      "cell_type": "code",
      "metadata": {
        "id": "fLkTWOZqlbuB",
        "outputId": "d35be81d-2d92-4f20-8ad1-a0eb6716beeb",
        "colab": {
          "base_uri": "https://localhost:8080/",
          "height": 34
        }
      },
      "source": [
        "def append_num(lst):\n",
        "  return [num for num in lst if num != 0] + [num for num in lst if num == 0]\n",
        "\n",
        "print(append_num(list_of_num))"
      ],
      "execution_count": 19,
      "outputs": [
        {
          "output_type": "stream",
          "text": [
            "[1, 1, 1, 1, 1, 1, 2, 2, 2, 3, 3, 3, 21, 24, 45, 0, 0, 0, 0, 0, 0]\n"
          ],
          "name": "stdout"
        }
      ]
    },
    {
      "cell_type": "markdown",
      "metadata": {
        "id": "y8sKKg_3mTfP"
      },
      "source": [
        "Sort numbers based on sum of tuple values"
      ]
    },
    {
      "cell_type": "code",
      "metadata": {
        "id": "s1oj3wSomRFj"
      },
      "source": [
        "list1 = [(10,4),(90,3),(9,1),(10,4),(9,5)]"
      ],
      "execution_count": 20,
      "outputs": []
    },
    {
      "cell_type": "code",
      "metadata": {
        "id": "llj06weEmqro",
        "outputId": "1edf9cec-390f-437b-a0cd-4832efa7c200",
        "colab": {
          "base_uri": "https://localhost:8080/",
          "height": 34
        }
      },
      "source": [
        "def sort_num(lst):\n",
        "  return lst[0]+lst[1]\n",
        "\n",
        "list1.sort(key=sort_num)\n",
        "print(list1)"
      ],
      "execution_count": 21,
      "outputs": [
        {
          "output_type": "stream",
          "text": [
            "[(9, 1), (10, 4), (10, 4), (9, 5), (90, 3)]\n"
          ],
          "name": "stdout"
        }
      ]
    },
    {
      "cell_type": "code",
      "metadata": {
        "id": "x3jwYFmbnQHP"
      },
      "source": [
        ""
      ],
      "execution_count": 14,
      "outputs": []
    }
  ]
}